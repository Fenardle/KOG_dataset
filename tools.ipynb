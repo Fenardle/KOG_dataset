{
 "cells": [
  {
   "cell_type": "markdown",
   "metadata": {
    "collapsed": false
   },
   "source": [
    "png2jpeg"
   ]
  },
  {
   "cell_type": "code",
   "execution_count": 11,
   "metadata": {
    "collapsed": false,
    "pycharm": {
     "name": "#%%\n"
    }
   },
   "outputs": [],
   "source": [
    "import os\n",
    "from PIL import Image\n",
    "\n",
    "for i in os.listdir(\"E:\\VOCdevkit\\VOC2007\\JPEGImages\"):\n",
    "    im = Image.open(\"E:\\VOCdevkit\\VOC2007\\JPEGImages/\"+i)\n",
    "    im.convert('RGB').save(\"JPEGIMG/\"+i[:-4]+\".jpeg\",\"JPEG\") #this converts png image as jpeg"
   ]
  },
  {
   "cell_type": "markdown",
   "metadata": {
    "collapsed": false
   },
   "source": [
    "make more def/vic"
   ]
  },
  {
   "cell_type": "code",
   "execution_count": 27,
   "metadata": {
    "collapsed": false,
    "pycharm": {
     "name": "#%%\n"
    }
   },
   "outputs": [],
   "source": [
    "import os\n",
    "from PIL import Image\n",
    "def_img = Image.open(\"E:\\VOCdevkit\\VOC2007\\JPEGIMG/def.jpeg\")\n",
    "vic_img = Image.open(\"E:\\VOCdevkit\\VOC2007\\JPEGIMG/vic.jpeg\")\n",
    "def_xml = open('E:\\VOCdevkit\\VOC2007\\Annotations\\def.xml').readlines()\n",
    "vic_xml = open('E:\\VOCdevkit\\VOC2007\\Annotations/vic.xml').readlines()\n",
    "for i in range(15):\n",
    "    def_img.save(\"JPEGIMG/def_\"+str(i)+\".jpeg\",\"JPEG\")\n",
    "    vic_img.save(\"JPEGIMG/vic_\"+str(i)+\".jpeg\",\"JPEG\")\n",
    "    temp_def = def_xml.copy()\n",
    "    temp_vic = vic_xml.copy()\n",
    "    temp_def[2]=temp_def[2].replace('def.jpeg', 'def_'+str(i)+'.jpeg')\n",
    "    temp_def[3]=temp_def[3].replace('def.jpeg', 'def_'+str(i)+'.jpeg')\n",
    "    temp_vic[2]=temp_vic[2].replace('vic.jpeg', 'vic_'+str(i)+'.jpeg')\n",
    "    temp_vic[3]=temp_vic[3].replace('vic.jpeg', 'vic_'+str(i)+'.jpeg')\n",
    "    open(r'E:\\VOCdevkit\\VOC2007\\Annotations/def_'+str(i)+'.xml', 'w').writelines(temp_def)\n",
    "    open(r'E:\\VOCdevkit\\VOC2007\\Annotations/vic_'+str(i)+'.xml', 'w').writelines(temp_vic)"
   ]
  },
  {
   "cell_type": "markdown",
   "metadata": {},
   "source": [
    "make test set"
   ]
  },
  {
   "cell_type": "code",
   "execution_count": 2,
   "metadata": {
    "collapsed": false,
    "pycharm": {
     "name": "#%%\n"
    }
   },
   "outputs": [
    {
     "data": {
      "text/html": [
       "<div>\n",
       "<style scoped>\n",
       "    .dataframe tbody tr th:only-of-type {\n",
       "        vertical-align: middle;\n",
       "    }\n",
       "\n",
       "    .dataframe tbody tr th {\n",
       "        vertical-align: top;\n",
       "    }\n",
       "\n",
       "    .dataframe thead th {\n",
       "        text-align: right;\n",
       "    }\n",
       "</style>\n",
       "<table border=\"1\" class=\"dataframe\">\n",
       "  <thead>\n",
       "    <tr style=\"text-align: right;\">\n",
       "      <th></th>\n",
       "      <th>num_legs</th>\n",
       "      <th>num_wings</th>\n",
       "      <th>num_specimen_seen</th>\n",
       "    </tr>\n",
       "  </thead>\n",
       "  <tbody>\n",
       "    <tr>\n",
       "      <th>falcon</th>\n",
       "      <td>2</td>\n",
       "      <td>2</td>\n",
       "      <td>10</td>\n",
       "    </tr>\n",
       "    <tr>\n",
       "      <th>dog</th>\n",
       "      <td>4</td>\n",
       "      <td>0</td>\n",
       "      <td>2</td>\n",
       "    </tr>\n",
       "    <tr>\n",
       "      <th>spider</th>\n",
       "      <td>8</td>\n",
       "      <td>0</td>\n",
       "      <td>1</td>\n",
       "    </tr>\n",
       "    <tr>\n",
       "      <th>fish</th>\n",
       "      <td>0</td>\n",
       "      <td>0</td>\n",
       "      <td>8</td>\n",
       "    </tr>\n",
       "  </tbody>\n",
       "</table>\n",
       "</div>"
      ],
      "text/plain": [
       "        num_legs  num_wings  num_specimen_seen\n",
       "falcon         2          2                 10\n",
       "dog            4          0                  2\n",
       "spider         8          0                  1\n",
       "fish           0          0                  8"
      ]
     },
     "execution_count": 2,
     "metadata": {},
     "output_type": "execute_result"
    }
   ],
   "source": [
    "import pandas as pd\n",
    "df = pd.DataFrame({'num_legs': [2, 4, 8, 0],\n",
    "                   'num_wings': [2, 0, 0, 0],\n",
    "                   'num_specimen_seen': [10, 2, 1, 8]},\n",
    "                  index=['falcon', 'dog', 'spider', 'fish'])\n",
    "df"
   ]
  },
  {
   "cell_type": "code",
   "execution_count": null,
   "metadata": {},
   "outputs": [],
   "source": []
  }
 ],
 "metadata": {
  "kernelspec": {
   "display_name": "Python 3.8.5 ('base')",
   "language": "python",
   "name": "python3"
  },
  "language_info": {
   "codemirror_mode": {
    "name": "ipython",
    "version": 3
   },
   "file_extension": ".py",
   "mimetype": "text/x-python",
   "name": "python",
   "nbconvert_exporter": "python",
   "pygments_lexer": "ipython3",
   "version": "3.8.5"
  },
  "vscode": {
   "interpreter": {
    "hash": "88279d2366fe020547cde40dd65aa0e3aa662a6ec1f3ca12d88834876c85e1a6"
   }
  }
 },
 "nbformat": 4,
 "nbformat_minor": 0
}
